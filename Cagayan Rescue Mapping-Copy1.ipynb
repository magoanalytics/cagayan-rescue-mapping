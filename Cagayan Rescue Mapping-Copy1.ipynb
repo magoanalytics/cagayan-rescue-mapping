{
 "cells": [
  {
   "cell_type": "markdown",
   "metadata": {},
   "source": [
    "# Geocoding API\n"
   ]
  },
  {
   "cell_type": "code",
   "execution_count": 1,
   "metadata": {},
   "outputs": [],
   "source": [
    "import herepy\n",
    "import pandas as pd\n",
    "from tqdm import tqdm \n",
    "import time\n",
    "import math"
   ]
  },
  {
   "cell_type": "markdown",
   "metadata": {},
   "source": [
    "## Tuguegarao"
   ]
  },
  {
   "cell_type": "code",
   "execution_count": 9,
   "metadata": {},
   "outputs": [],
   "source": [
    "df = pd.read_csv('Mago_copy_CaVolun_Initiative_105720201119.csv')"
   ]
  },
  {
   "cell_type": "code",
   "execution_count": 10,
   "metadata": {},
   "outputs": [],
   "source": [
    "df = df[(df['USABLE ADDRESS'] == 'Yes') | (df['REVISED ADDRESS'].notnull())]"
   ]
  },
  {
   "cell_type": "code",
   "execution_count": 11,
   "metadata": {},
   "outputs": [],
   "source": [
    "df = df[df['RESCUE STATUS'] != 'Rescued']\n",
    "df = df[df['RESCUE STATUS'] != 'Ongoing']\n",
    "df = df[df['RESCUE STATUS'] != 'No need']\n",
    "df = df[df['RESCUE STATUS'] != 'Safe at home']"
   ]
  },
  {
   "cell_type": "code",
   "execution_count": 12,
   "metadata": {},
   "outputs": [
    {
     "data": {
      "text/plain": [
       "array([nan, 'Not yet responded', 'No info', 'Second floor na baha',\n",
       "       'not yet rescued', 'NEEDS URGENT HELP', 'Wala nang battery',\n",
       "       'trapped on the 2nd floor', '2 adults 1 kid, nasa bubong', '2:08',\n",
       "       'Not Yet Responded', 'Cannot contact',\n",
       "       'landmark: pinakadulo malapit sa evas',\n",
       "       'light can be seen at jl fuel', 'URGENT! may inatake sa puso',\n",
       "       'flashlight standby; di na kayang sumigaw',\n",
       "       'no other info; not yet rescued since 8pm',\n",
       "       'Families - sobrang gutom', 'cannot be rescued due to location',\n",
       "       'need rescue asap'], dtype=object)"
      ]
     },
     "execution_count": 12,
     "metadata": {},
     "output_type": "execute_result"
    }
   ],
   "source": [
    "df['RESCUE STATUS'].unique()"
   ]
  },
  {
   "cell_type": "code",
   "execution_count": 13,
   "metadata": {},
   "outputs": [],
   "source": [
    "df = df[df['address'] != '']"
   ]
  },
  {
   "cell_type": "code",
   "execution_count": 14,
   "metadata": {},
   "outputs": [],
   "source": [
    "df['AREA'] = df['AREA'].replace('Cetro', 'Centro')\n",
    "df['AREA'] = df['AREA'].replace('North: Carig-Caritan', 'Carig-Caritan')\n",
    "df['AREA'] = df['AREA'].replace('West: Buntun-Ugac', 'Buntun-Ugac')"
   ]
  },
  {
   "cell_type": "code",
   "execution_count": 15,
   "metadata": {},
   "outputs": [
    {
     "data": {
      "text/plain": [
       "array(['Pengue', 'Centro', 'Carig-Caritan', nan, 'Linao Norte',\n",
       "       'Balzain west', 'Centro: Centro 1-12', 'Buntun-Ugac',\n",
       "       'Annafuan East', 'Annafunan East', 'Linao East', 'Linao east',\n",
       "       'Liano EAST tapat', 'Brgy. San Gabriel', 'San Gabriel',\n",
       "       'Linao North', 'Tuguegarao City', 'Enrile Cagayan', 'Buntun',\n",
       "       'before meynars papasok sa drugstore', 'Tanza', 'Tan',\n",
       "       'Liano East ', 'Balzain East', 'balzain east ',\n",
       "       'Balzain East Tuguegarao City', 'Annafunan West', 'West Area',\n",
       "       'Linao, Tuguegarao', 'Balzain', 'East: Namabbalan-Capatan',\n",
       "       'Linao West', 'linao east ', 'Cattaggamman', 'Linao east ',\n",
       "       'linao norte', 'Anao, Cabagan, Isabela',\n",
       "       'Pallua Sur, near elem school papasok sa kanto ',\n",
       "       'Linao Norte, Tuguegarao', 'LINAO NORTH', 'pinakadulo ',\n",
       "       'Linao Norte ', 'Ugac Sur', 'Cataggaman Nuevo'], dtype=object)"
      ]
     },
     "execution_count": 15,
     "metadata": {},
     "output_type": "execute_result"
    }
   ],
   "source": [
    "df['AREA'].unique()"
   ]
  },
  {
   "cell_type": "code",
   "execution_count": 16,
   "metadata": {},
   "outputs": [],
   "source": [
    "df = df[df['address'] != '']"
   ]
  },
  {
   "cell_type": "markdown",
   "metadata": {},
   "source": [
    "## Google Maps Geocoding"
   ]
  },
  {
   "cell_type": "code",
   "execution_count": 18,
   "metadata": {},
   "outputs": [],
   "source": [
    "import googlemaps\n",
    "from datetime import datetime\n",
    "\n",
    "# PUT YOUR OWN API KEY\n",
    "gmaps = googlemaps.Client(key='')"
   ]
  },
  {
   "cell_type": "code",
   "execution_count": 178,
   "metadata": {},
   "outputs": [],
   "source": [
    "#Testing\n",
    "geocode_result = gmaps.geocode('zone 4 duhat street barangay capatan ,Namabbalan-Capatan, Tuguegarao City, Cagayan')\n",
    "geocode_result[0]"
   ]
  },
  {
   "cell_type": "code",
   "execution_count": 19,
   "metadata": {},
   "outputs": [
    {
     "name": "stderr",
     "output_type": "stream",
     "text": [
      "100%|██████████| 340/340 [13:52<00:00,  2.45s/it]\n"
     ]
    }
   ],
   "source": [
    "lat_list = []\n",
    "lng_list = []\n",
    "with tqdm(total=df.shape[0]) as pbar:\n",
    "    for index, row in df.iterrows():\n",
    "        pbar.update(1)\n",
    "                \n",
    "        try:\n",
    "            if pd.isnull(row['REVISED ADDRESS']):\n",
    "                address = row['address']\n",
    "            else:\n",
    "                address = row['REVISED ADDRESS']\n",
    "        except:\n",
    "            address = row['REVISED ADDRESS']\n",
    "            \n",
    "        if pd.isnull(row['AREA']) == False:\n",
    "            address = address + ', ' + row['AREA']\n",
    "            \n",
    "        if \"tuguegarao\" in address.lower():\n",
    "            address = address + ', Cagayan'\n",
    "        else:\n",
    "            address = address + ', Tuguegarao City, Cagayan'\n",
    "            \n",
    "#         print(address)\n",
    "                    \n",
    "        geocode_result = gmaps.geocode(address)\n",
    "        try:\n",
    "            lat = geocode_result[0]['geometry']['location']['lat']\n",
    "            long = geocode_result[0]['geometry']['location']['lng']\n",
    "            \n",
    "            lat_list.append(lat)\n",
    "            lng_list.append(long)\n",
    "        except:\n",
    "            lat_list.append(0)\n",
    "            lng_list.append(0)\n",
    "        time.sleep(2)"
   ]
  },
  {
   "cell_type": "code",
   "execution_count": 20,
   "metadata": {},
   "outputs": [],
   "source": [
    "df['lat'] = lat_list\n",
    "df['lng'] = lng_list"
   ]
  },
  {
   "cell_type": "code",
   "execution_count": 21,
   "metadata": {},
   "outputs": [],
   "source": [
    "df.to_csv('tuguegeocoded_locations_v3.csv')"
   ]
  },
  {
   "cell_type": "markdown",
   "metadata": {},
   "source": [
    " "
   ]
  },
  {
   "cell_type": "markdown",
   "metadata": {},
   "source": [
    "## GEOPANDAS"
   ]
  },
  {
   "cell_type": "code",
   "execution_count": 29,
   "metadata": {},
   "outputs": [],
   "source": [
    "import geopandas as gpd\n",
    "import matplotlib.pyplot as plt\n",
    "import pandas as pd"
   ]
  },
  {
   "cell_type": "markdown",
   "metadata": {},
   "source": [
    "#### Converting our scraped data to geopandas format"
   ]
  },
  {
   "cell_type": "code",
   "execution_count": 80,
   "metadata": {},
   "outputs": [],
   "source": [
    "df = pd.read_csv('tuguegeocoded_locations_v3.csv')"
   ]
  },
  {
   "cell_type": "code",
   "execution_count": 81,
   "metadata": {},
   "outputs": [],
   "source": [
    "df2 = pd.read_csv('cagayan_other_locations_v1.csv')"
   ]
  },
  {
   "cell_type": "code",
   "execution_count": 82,
   "metadata": {},
   "outputs": [],
   "source": [
    "df = df[['address','AREA','NOTES',\"Contact Number\\n  ANOTHER NOTE: Countless rescuers na ang namatay dahil naelectrocute ng generators. INFORM PEOPLE SA CAGAYAN TO TURN OFF THEIR GENERATORS. Buhay muna ng rescuers bago ang kuryente!!\", 'PERSONS TO RESCUE', 'DATE AND TIME CONTACTED','lat','lng']]"
   ]
  },
  {
   "cell_type": "code",
   "execution_count": 83,
   "metadata": {},
   "outputs": [],
   "source": [
    "df2 = df2[['address','AREA','NOTES','CONTACT NUMBER','PERSONS TO RESCUE','DATE AND TIME CONTACTED', 'lat','lng']]"
   ]
  },
  {
   "cell_type": "code",
   "execution_count": 84,
   "metadata": {},
   "outputs": [],
   "source": [
    "df.columns = df2.columns"
   ]
  },
  {
   "cell_type": "code",
   "execution_count": 85,
   "metadata": {},
   "outputs": [],
   "source": [
    "df = df2.append(df)"
   ]
  },
  {
   "cell_type": "code",
   "execution_count": 86,
   "metadata": {},
   "outputs": [],
   "source": [
    "# Converting the \n",
    "df['lat'] = df['lat'].astype(float)\n",
    "df['lng'] = df['lng'].astype(float)"
   ]
  },
  {
   "cell_type": "code",
   "execution_count": 87,
   "metadata": {
    "jupyter": {
     "source_hidden": true
    }
   },
   "outputs": [],
   "source": [
    "df = df[(df['lng'] >= 120.68) & (df['lng'] <= 122.4)]\n",
    "df = df[(df['lat'] >= 17.5) & (df['lat'] <= 19.6)]"
   ]
  },
  {
   "cell_type": "code",
   "execution_count": 88,
   "metadata": {},
   "outputs": [],
   "source": [
    "gdf = gpd.GeoDataFrame(\n",
    "    df, geometry=gpd.points_from_xy(df.lng, df.lat))"
   ]
  },
  {
   "cell_type": "markdown",
   "metadata": {},
   "source": [
    "# Mapping"
   ]
  },
  {
   "cell_type": "code",
   "execution_count": 52,
   "metadata": {},
   "outputs": [],
   "source": [
    "import folium\n",
    "import folium.plugins as plugins\n"
   ]
  },
  {
   "cell_type": "code",
   "execution_count": 89,
   "metadata": {},
   "outputs": [],
   "source": [
    "df = df.reset_index(drop = True)"
   ]
  },
  {
   "cell_type": "code",
   "execution_count": 90,
   "metadata": {},
   "outputs": [],
   "source": [
    "df1 = df[~df.geometry.duplicated()]\n",
    "df2 = df[df.geometry.duplicated()]"
   ]
  },
  {
   "cell_type": "code",
   "execution_count": 91,
   "metadata": {},
   "outputs": [],
   "source": [
    "coo = []\n",
    "info = []\n",
    "\n",
    "for geo in df2['geometry'].unique():\n",
    "    coo.append(geo)\n",
    "    info.append(df[df['geometry'] == geo][['address', 'AREA','NOTES','CONTACT NUMBER', 'PERSONS TO RESCUE','DATE AND TIME CONTACTED']].to_html())\n",
    "    \n",
    "tables = pd.DataFrame({'geometry': coo, 'info': info})\n",
    "\n",
    "coo = []\n",
    "info = []\n",
    "\n",
    "for geo in df1['geometry'].unique():\n",
    "    coo.append(geo)\n",
    "    info.append(df[df['geometry'] == geo][['address', 'AREA','NOTES','CONTACT NUMBER', 'PERSONS TO RESCUE','DATE AND TIME CONTACTED']].to_html())\n",
    "    \n",
    "tables = tables.append(pd.DataFrame({'geometry': coo, 'info': info}))"
   ]
  },
  {
   "cell_type": "code",
   "execution_count": 92,
   "metadata": {},
   "outputs": [],
   "source": [
    "tables = tables.reset_index(drop = True)\n",
    "tables = gpd.GeoDataFrame(tables, geometry='geometry')\n"
   ]
  },
  {
   "cell_type": "code",
   "execution_count": 93,
   "metadata": {},
   "outputs": [],
   "source": [
    "gdf = gdf.merge(tables, on='geometry').drop_duplicates().reset_index(drop = 'True')"
   ]
  },
  {
   "cell_type": "code",
   "execution_count": 74,
   "metadata": {},
   "outputs": [],
   "source": [
    "# df['info'] = [' DETAILS: '.join(i) for i in zip(df['address'].astype(str),df['NOTES'].astype(str))]\n",
    "# df['info'] = [' AREA: '.join(i) for i in zip(df['info'].astype(str),df['AREA'].astype(str))]\n",
    "# df['info'] = [' CONTACT NUMBER: '.join(i) for i in zip(df['info'].astype(str),df[\"CONTACT NUMBER\"].astype(str))]\n",
    "# df['info'] = [' PERSONS TO RESCUE: '.join(i) for i in zip(df['info'].astype(str),df[\"PERSONS TO RESCUE\"].astype(str))]\n",
    "# df['info'] = [' DATE AND TIME CONTACTED: '.join(i) for i in zip(df['info'].astype(str),df[\"DATE AND TIME CONTACTED\"].astype(str))]\n",
    "# df['info'] = 'ADDRESS: ' + df['info']"
   ]
  },
  {
   "cell_type": "code",
   "execution_count": 75,
   "metadata": {
    "jupyter": {
     "source_hidden": true
    }
   },
   "outputs": [],
   "source": [
    "basemaps = {\n",
    "    'Google Maps': folium.TileLayer(\n",
    "        tiles = 'https://mt1.google.com/vt/lyrs=m&x={x}&y={y}&z={z}',\n",
    "        attr = 'Google',\n",
    "        name = 'Google Maps',\n",
    "        overlay = True,\n",
    "        control = True\n",
    "    ),\n",
    "    'Google Satellite': folium.TileLayer(\n",
    "        tiles = 'https://mt1.google.com/vt/lyrs=s&x={x}&y={y}&z={z}',\n",
    "        attr = 'Google',\n",
    "        name = 'Google Satellite',\n",
    "        overlay = True,\n",
    "        control = True\n",
    "    ),\n",
    "    'Google Terrain': folium.TileLayer(\n",
    "        tiles = 'https://mt1.google.com/vt/lyrs=p&x={x}&y={y}&z={z}',\n",
    "        attr = 'Google',\n",
    "        name = 'Google Terrain',\n",
    "        overlay = True,\n",
    "        control = True\n",
    "    ),\n",
    "    'Google Satellite Hybrid': folium.TileLayer(\n",
    "        tiles = 'https://mt1.google.com/vt/lyrs=y&x={x}&y={y}&z={z}',\n",
    "        attr = 'Google',\n",
    "        name = 'Google Satellite',\n",
    "        overlay = True,\n",
    "        control = True\n",
    "    ),\n",
    "    'Esri Satellite': folium.TileLayer(\n",
    "        tiles = 'https://server.arcgisonline.com/ArcGIS/rest/services/World_Imagery/MapServer/tile/{z}/{y}/{x}',\n",
    "        attr = 'Esri',\n",
    "        name = 'Esri Satellite',\n",
    "        overlay = True,\n",
    "        control = True\n",
    "    )\n",
    "}"
   ]
  },
  {
   "cell_type": "code",
   "execution_count": 94,
   "metadata": {},
   "outputs": [],
   "source": [
    "gdf['test'] = \"<div style='height:200px;overflow:auto;'>\"+ gdf['info'] +\"</div>\" "
   ]
  },
  {
   "cell_type": "code",
   "execution_count": 95,
   "metadata": {},
   "outputs": [
    {
     "data": {
      "text/html": [
       "<div>\n",
       "<style scoped>\n",
       "    .dataframe tbody tr th:only-of-type {\n",
       "        vertical-align: middle;\n",
       "    }\n",
       "\n",
       "    .dataframe tbody tr th {\n",
       "        vertical-align: top;\n",
       "    }\n",
       "\n",
       "    .dataframe thead th {\n",
       "        text-align: right;\n",
       "    }\n",
       "</style>\n",
       "<table border=\"1\" class=\"dataframe\">\n",
       "  <thead>\n",
       "    <tr style=\"text-align: right;\">\n",
       "      <th></th>\n",
       "      <th>address</th>\n",
       "      <th>AREA</th>\n",
       "      <th>NOTES</th>\n",
       "      <th>CONTACT NUMBER</th>\n",
       "      <th>PERSONS TO RESCUE</th>\n",
       "      <th>DATE AND TIME CONTACTED</th>\n",
       "      <th>lat</th>\n",
       "      <th>lng</th>\n",
       "      <th>geometry</th>\n",
       "      <th>info</th>\n",
       "      <th>test</th>\n",
       "    </tr>\n",
       "  </thead>\n",
       "  <tbody>\n",
       "    <tr>\n",
       "      <th>0</th>\n",
       "      <td>brgy. damurog zone 4</td>\n",
       "      <td>Alcala</td>\n",
       "      <td>NaN</td>\n",
       "      <td>NaN</td>\n",
       "      <td>NaN</td>\n",
       "      <td>NaN</td>\n",
       "      <td>17.878753</td>\n",
       "      <td>121.665383</td>\n",
       "      <td>POINT (121.66538 17.87875)</td>\n",
       "      <td>&lt;table border=\"1\" class=\"dataframe\"&gt;\\n  &lt;thead...</td>\n",
       "      <td>&lt;div style='height:200px;overflow:auto;'&gt;&lt;tabl...</td>\n",
       "    </tr>\n",
       "    <tr>\n",
       "      <th>1</th>\n",
       "      <td>Zone2</td>\n",
       "      <td>Alcala</td>\n",
       "      <td>di makontact kanina pa tanghali</td>\n",
       "      <td>9751500123</td>\n",
       "      <td>Jeloubelle Conceja</td>\n",
       "      <td>NaN</td>\n",
       "      <td>17.904972</td>\n",
       "      <td>121.651126</td>\n",
       "      <td>POINT (121.65113 17.90497)</td>\n",
       "      <td>&lt;table border=\"1\" class=\"dataframe\"&gt;\\n  &lt;thead...</td>\n",
       "      <td>&lt;div style='height:200px;overflow:auto;'&gt;&lt;tabl...</td>\n",
       "    </tr>\n",
       "    <tr>\n",
       "      <th>2</th>\n",
       "      <td>NaN</td>\n",
       "      <td>Alcala</td>\n",
       "      <td>NaN</td>\n",
       "      <td>NaN</td>\n",
       "      <td>Claudilyn</td>\n",
       "      <td>NaN</td>\n",
       "      <td>17.904972</td>\n",
       "      <td>121.651126</td>\n",
       "      <td>POINT (121.65113 17.90497)</td>\n",
       "      <td>&lt;table border=\"1\" class=\"dataframe\"&gt;\\n  &lt;thead...</td>\n",
       "      <td>&lt;div style='height:200px;overflow:auto;'&gt;&lt;tabl...</td>\n",
       "    </tr>\n",
       "    <tr>\n",
       "      <th>3</th>\n",
       "      <td>Baybayog</td>\n",
       "      <td>Alcala</td>\n",
       "      <td>with 2 yr old daughter</td>\n",
       "      <td>NaN</td>\n",
       "      <td>Castro, Sheena</td>\n",
       "      <td>NaN</td>\n",
       "      <td>17.887315</td>\n",
       "      <td>121.705295</td>\n",
       "      <td>POINT (121.70530 17.88732)</td>\n",
       "      <td>&lt;table border=\"1\" class=\"dataframe\"&gt;\\n  &lt;thead...</td>\n",
       "      <td>&lt;div style='height:200px;overflow:auto;'&gt;&lt;tabl...</td>\n",
       "    </tr>\n",
       "    <tr>\n",
       "      <th>4</th>\n",
       "      <td>Zone 2, Alcala</td>\n",
       "      <td>Alcala, Zone 2, Calantac</td>\n",
       "      <td>May 2 bata</td>\n",
       "      <td>9751500123</td>\n",
       "      <td>Conceja, Jeloubelle</td>\n",
       "      <td>NaN</td>\n",
       "      <td>17.896843</td>\n",
       "      <td>121.725246</td>\n",
       "      <td>POINT (121.72525 17.89684)</td>\n",
       "      <td>&lt;table border=\"1\" class=\"dataframe\"&gt;\\n  &lt;thead...</td>\n",
       "      <td>&lt;div style='height:200px;overflow:auto;'&gt;&lt;tabl...</td>\n",
       "    </tr>\n",
       "  </tbody>\n",
       "</table>\n",
       "</div>"
      ],
      "text/plain": [
       "                address                      AREA  \\\n",
       "0  brgy. damurog zone 4                    Alcala   \n",
       "1                 Zone2                    Alcala   \n",
       "2                   NaN                    Alcala   \n",
       "3              Baybayog                    Alcala   \n",
       "4       Zone 2, Alcala   Alcala, Zone 2, Calantac   \n",
       "\n",
       "                             NOTES CONTACT NUMBER    PERSONS TO RESCUE  \\\n",
       "0                              NaN            NaN                  NaN   \n",
       "1  di makontact kanina pa tanghali     9751500123   Jeloubelle Conceja   \n",
       "2                              NaN            NaN            Claudilyn   \n",
       "3           with 2 yr old daughter            NaN       Castro, Sheena   \n",
       "4                       May 2 bata     9751500123  Conceja, Jeloubelle   \n",
       "\n",
       "  DATE AND TIME CONTACTED        lat         lng                    geometry  \\\n",
       "0                     NaN  17.878753  121.665383  POINT (121.66538 17.87875)   \n",
       "1                     NaN  17.904972  121.651126  POINT (121.65113 17.90497)   \n",
       "2                     NaN  17.904972  121.651126  POINT (121.65113 17.90497)   \n",
       "3                     NaN  17.887315  121.705295  POINT (121.70530 17.88732)   \n",
       "4                     NaN  17.896843  121.725246  POINT (121.72525 17.89684)   \n",
       "\n",
       "                                                info  \\\n",
       "0  <table border=\"1\" class=\"dataframe\">\\n  <thead...   \n",
       "1  <table border=\"1\" class=\"dataframe\">\\n  <thead...   \n",
       "2  <table border=\"1\" class=\"dataframe\">\\n  <thead...   \n",
       "3  <table border=\"1\" class=\"dataframe\">\\n  <thead...   \n",
       "4  <table border=\"1\" class=\"dataframe\">\\n  <thead...   \n",
       "\n",
       "                                                test  \n",
       "0  <div style='height:200px;overflow:auto;'><tabl...  \n",
       "1  <div style='height:200px;overflow:auto;'><tabl...  \n",
       "2  <div style='height:200px;overflow:auto;'><tabl...  \n",
       "3  <div style='height:200px;overflow:auto;'><tabl...  \n",
       "4  <div style='height:200px;overflow:auto;'><tabl...  "
      ]
     },
     "execution_count": 95,
     "metadata": {},
     "output_type": "execute_result"
    }
   ],
   "source": [
    "gdf.head()"
   ]
  },
  {
   "cell_type": "code",
   "execution_count": null,
   "metadata": {},
   "outputs": [],
   "source": [
    "map1 = folium.Map(\n",
    "    location=[17.6245371,121.7259032 ],\n",
    "    zoom_start=10,\n",
    ")\n",
    "\n",
    "\n",
    "loc = 'Tuguegarao Rescue Request Mapping'\n",
    "title_html = '''\n",
    "             <h3 align=\"center\" style=\"font-size:16px\"><b>{}</b></h3>\n",
    "             '''.format(loc)   \n",
    "\n",
    "map1.get_root().html.add_child(folium.Element(title_html))\n",
    "\n",
    "loc = 'Last Updated: 8:47 AM 11-19-2020 <br> Mapped using Google Maps Geocoding.<br> Note that these are rough estimates of the coordinates <br> as identified by the Google API based from address description.<br> Data Source: <a href = \"https://docs.google.com/spreadsheets/d/1WijcCj3nlbKPESdlcdotoP4H1hLyS3RwxJIkN_kUP3E/htmlview#\"> CaVolun Initiative </a> <br> Generated by <a href = \"https://github.com/magoanalytics/cagayan-rescue-mapping\">Mago Analytics </a>'\n",
    "title_html = '''\n",
    "             <p align=\"center\" style=\"font-size:9\">{}</p>\n",
    "             '''.format(loc)   \n",
    "\n",
    "map1.get_root().html.add_child(folium.Element(title_html))\n",
    "\n",
    "# Add custom basemaps\n",
    "basemaps['Google Maps'].add_to(map1)\n",
    "\n",
    "gdf.apply(lambda row:folium.CircleMarker(location=[row[\"lat\"], row[\"lng\"]], popup = row['test'],fill_color='red', height=100).add_to(map1), axis=1)\n",
    "map1"
   ]
  },
  {
   "cell_type": "code",
   "execution_count": 189,
   "metadata": {},
   "outputs": [],
   "source": [
    "map1.save('tuguegarao_v2.html')"
   ]
  },
  {
   "cell_type": "markdown",
   "metadata": {},
   "source": [
    "## --------------------------------------------"
   ]
  },
  {
   "cell_type": "markdown",
   "metadata": {},
   "source": [
    "## Other Districts"
   ]
  },
  {
   "cell_type": "code",
   "execution_count": 23,
   "metadata": {},
   "outputs": [],
   "source": [
    "import os"
   ]
  },
  {
   "cell_type": "code",
   "execution_count": 63,
   "metadata": {},
   "outputs": [],
   "source": [
    "df = pd.DataFrame()\n",
    "for file in os.listdir('./Cagayan Districts Data'):\n",
    "    if '.csv' in file:\n",
    "        to_append = pd.read_csv('Cagayan Districts Data/' + file)[['LOCATION','AREA','REVISED ADDRESS','STATUS','RESCUE STATUS','PERSONS TO RESCUE', 'CONTACT NUMBER']]\n",
    "        df = df.append(to_append)"
   ]
  },
  {
   "cell_type": "code",
   "execution_count": 76,
   "metadata": {},
   "outputs": [
    {
     "name": "stderr",
     "output_type": "stream",
     "text": [
      "100%|██████████| 108/108 [04:21<00:00,  2.42s/it]\n"
     ]
    }
   ],
   "source": [
    "lat_list = []\n",
    "lng_list = []\n",
    "with tqdm(total=df.shape[0]) as pbar:\n",
    "    for index, row in df.iterrows():\n",
    "        pbar.update(1)\n",
    "                \n",
    "        try:\n",
    "            if pd.isnull(row['REVISED ADDRESS']):\n",
    "                if pd.isnull(row['LOCATION']) == False:\n",
    "                    address = row['LOCATION']\n",
    "                else:\n",
    "                    address = ''\n",
    "            else:\n",
    "                address = row['REVISED ADDRESS']\n",
    "        except:\n",
    "            address = row['AREA']\n",
    "            \n",
    "            \n",
    "        if pd.isnull(row['AREA']) == False:\n",
    "            address = address + ', ' + row['AREA']\n",
    "            \n",
    "        address = address + ', Cagayan'\n",
    "            \n",
    "#         print(address)\n",
    "                    \n",
    "        geocode_result = gmaps.geocode(address)\n",
    "        try:\n",
    "            lat = geocode_result[0]['geometry']['location']['lat']\n",
    "            long = geocode_result[0]['geometry']['location']['lng']\n",
    "            \n",
    "            lat_list.append(lat)\n",
    "            lng_list.append(long)\n",
    "        except:\n",
    "            lat_list.append(0)\n",
    "            lng_list.append(0)\n",
    "        time.sleep(2)"
   ]
  },
  {
   "cell_type": "code",
   "execution_count": 77,
   "metadata": {},
   "outputs": [],
   "source": [
    "df['lat'] = lat_list\n",
    "df['lng'] = lng_list"
   ]
  },
  {
   "cell_type": "code",
   "execution_count": 80,
   "metadata": {},
   "outputs": [],
   "source": [
    "df.columns = (['address', 'AREA', 'REVISED ADDRESS','NOTES','RESCUE STATUS', 'PERSONS TO RESCUE', 'CONTACT NUMBER', 'lat','lng'])\n",
    "df['DATE AND TIME CONTACTED'] = ''\n",
    "df = df[df['RESCUE STATUS'].str.contains('Not')]"
   ]
  },
  {
   "cell_type": "code",
   "execution_count": 86,
   "metadata": {},
   "outputs": [],
   "source": [
    "df.to_csv('cagayan_other_locations_v1.csv')"
   ]
  }
 ],
 "metadata": {
  "kernelspec": {
   "display_name": "Python 3",
   "language": "python",
   "name": "python3"
  },
  "language_info": {
   "codemirror_mode": {
    "name": "ipython",
    "version": 3
   },
   "file_extension": ".py",
   "mimetype": "text/x-python",
   "name": "python",
   "nbconvert_exporter": "python",
   "pygments_lexer": "ipython3",
   "version": "3.7.3"
  }
 },
 "nbformat": 4,
 "nbformat_minor": 4
}
